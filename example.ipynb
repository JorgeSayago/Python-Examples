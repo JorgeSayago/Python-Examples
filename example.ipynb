{
 "cells": [
  {
   "cell_type": "markdown",
   "id": "1cf02762",
   "metadata": {},
   "source": [
    "# Variables\n",
    "\n"
   ]
  },
  {
   "cell_type": "code",
   "execution_count": 3,
   "id": "70c93f31",
   "metadata": {},
   "outputs": [],
   "source": [
    "a = 2\n",
    "b = 5"
   ]
  },
  {
   "cell_type": "code",
   "execution_count": 4,
   "id": "1a53ff0e",
   "metadata": {},
   "outputs": [
    {
     "data": {
      "text/plain": [
       "7"
      ]
     },
     "execution_count": 4,
     "metadata": {},
     "output_type": "execute_result"
    }
   ],
   "source": [
    "a + b"
   ]
  },
  {
   "cell_type": "code",
   "execution_count": 7,
   "id": "49aad601",
   "metadata": {},
   "outputs": [],
   "source": [
    "c = \"hello\"\n",
    "d = \"\"\" \n",
    "    How are you today?\n",
    "\"\"\""
   ]
  },
  {
   "cell_type": "code",
   "execution_count": 6,
   "id": "7e5c479b",
   "metadata": {},
   "outputs": [
    {
     "name": "stdout",
     "output_type": "stream",
     "text": [
      "hello\n"
     ]
    }
   ],
   "source": [
    "print(c)"
   ]
  },
  {
   "cell_type": "code",
   "execution_count": 9,
   "id": "f67fb417",
   "metadata": {},
   "outputs": [
    {
     "name": "stdout",
     "output_type": "stream",
     "text": [
      " \n",
      "    How are you today?\n",
      "\n",
      "<class 'str'>\n"
     ]
    }
   ],
   "source": [
    "print(d)\n",
    "print(type(d))"
   ]
  },
  {
   "cell_type": "markdown",
   "id": "90582808",
   "metadata": {},
   "source": [
    "# Excercise\n",
    "\n",
    "We are going to convert the temperature of Celcius grades a Fahrenheit and Kelvin\n",
    "\n",
    "Celsius -> Fahrenheit = (0 C * 9/5)+ 32= 32 F\n",
    "\n",
    "Celsius -> Kelvin = (0 C + 273.15) = 273.15 K"
   ]
  },
  {
   "cell_type": "code",
   "execution_count": 12,
   "id": "7e1c933c",
   "metadata": {},
   "outputs": [
    {
     "name": "stdout",
     "output_type": "stream",
     "text": [
      " The temperature in Celcius grades are:  32.5\n",
      "The temperature in Fahrenheit grades are:  90.5\n",
      "The temperature in Kelvin grades are:  305.65\n"
     ]
    }
   ],
   "source": [
    "tempC = 32.5\n",
    "tempF = (tempC * 9/5) + 32\n",
    "tempK = (tempC +273.15)\n",
    "\n",
    "print(\" The temperature in Celcius grades are: \", tempC)\n",
    "print (\"The temperature in Fahrenheit grades are: \",tempF)\n",
    "print (\"The temperature in Kelvin grades are: \",tempK)"
   ]
  },
  {
   "cell_type": "markdown",
   "id": "9acab817",
   "metadata": {},
   "source": [
    "# Comparation"
   ]
  },
  {
   "cell_type": "code",
   "execution_count": 15,
   "id": "1785292c",
   "metadata": {},
   "outputs": [
    {
     "name": "stdout",
     "output_type": "stream",
     "text": [
      "is  -10  negative number?\n",
      "True\n"
     ]
    }
   ],
   "source": [
    "a = -10\n",
    "comparation = a < 0\n",
    "print(\"is \", a,\" negative number?\" )\n",
    "print(comparation)"
   ]
  },
  {
   "cell_type": "code",
   "execution_count": 17,
   "id": "e0a60e10",
   "metadata": {},
   "outputs": [
    {
     "name": "stdout",
     "output_type": "stream",
     "text": [
      " is 'b' different from zero?\n",
      "False\n"
     ]
    }
   ],
   "source": [
    "b = 0\n",
    "comparation = b != 0\n",
    "print(\" is 'b' different from zero?\")\n",
    "print(comparation)"
   ]
  },
  {
   "cell_type": "markdown",
   "id": "a7c2d966",
   "metadata": {},
   "source": [
    "# Other important Functions"
   ]
  },
  {
   "cell_type": "code",
   "execution_count": 22,
   "id": "1d8e7ec3",
   "metadata": {},
   "outputs": [
    {
     "name": "stdout",
     "output_type": "stream",
     "text": [
      "The value of the temperature is 34 celcius grade\n"
     ]
    }
   ],
   "source": [
    "temperatura = input(\" enter the value of the temperatura: \")\n",
    "print(f\"The value of the temperature is {temperatura} celcius grade\")"
   ]
  },
  {
   "cell_type": "code",
   "execution_count": 19,
   "id": "e5e060b8",
   "metadata": {},
   "outputs": [
    {
     "name": "stdout",
     "output_type": "stream",
     "text": [
      "Help on method raw_input in module ipykernel.kernelbase:\n",
      "\n",
      "raw_input(prompt='') method of ipykernel.ipkernel.IPythonKernel instance\n",
      "    Forward raw_input to frontends\n",
      "\n",
      "    Raises\n",
      "    ------\n",
      "    StdinNotImplementedError if active frontend doesn't support stdin.\n",
      "\n"
     ]
    }
   ],
   "source": [
    "help(input)"
   ]
  },
  {
   "cell_type": "code",
   "execution_count": 20,
   "id": "86c0e44d",
   "metadata": {},
   "outputs": [
    {
     "data": {
      "text/plain": [
       "11"
      ]
     },
     "execution_count": 20,
     "metadata": {},
     "output_type": "execute_result"
    }
   ],
   "source": [
    "text = \"Hello world\"\n",
    "len(text)"
   ]
  },
  {
   "cell_type": "code",
   "execution_count": 21,
   "id": "3afb825e",
   "metadata": {},
   "outputs": [
    {
     "data": {
      "text/plain": [
       "2"
      ]
     },
     "execution_count": 21,
     "metadata": {},
     "output_type": "execute_result"
    }
   ],
   "source": [
    "a = 1.8\n",
    "round(a)"
   ]
  },
  {
   "cell_type": "code",
   "execution_count": 28,
   "id": "841069ee",
   "metadata": {},
   "outputs": [
    {
     "data": {
      "text/plain": [
       "34.59"
      ]
     },
     "execution_count": 28,
     "metadata": {},
     "output_type": "execute_result"
    }
   ],
   "source": [
    "a = -34.59\n",
    "abs(a)"
   ]
  },
  {
   "cell_type": "code",
   "execution_count": 24,
   "id": "a87171af",
   "metadata": {},
   "outputs": [
    {
     "data": {
      "text/plain": [
       "23"
      ]
     },
     "execution_count": 24,
     "metadata": {},
     "output_type": "execute_result"
    }
   ],
   "source": [
    "a = 11\n",
    "b = int(input(\"Please, enter a number: \"))\n",
    "a + b"
   ]
  }
 ],
 "metadata": {
  "kernelspec": {
   "display_name": ".venv",
   "language": "python",
   "name": "python3"
  },
  "language_info": {
   "codemirror_mode": {
    "name": "ipython",
    "version": 3
   },
   "file_extension": ".py",
   "mimetype": "text/x-python",
   "name": "python",
   "nbconvert_exporter": "python",
   "pygments_lexer": "ipython3",
   "version": "3.13.5"
  }
 },
 "nbformat": 4,
 "nbformat_minor": 5
}
