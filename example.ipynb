{
 "cells": [
  {
   "cell_type": "markdown",
   "id": "1cf02762",
   "metadata": {},
   "source": [
    "# Variables\n",
    "\n"
   ]
  },
  {
   "cell_type": "code",
   "execution_count": 3,
   "id": "70c93f31",
   "metadata": {},
   "outputs": [],
   "source": [
    "a = 2\n",
    "b = 5"
   ]
  },
  {
   "cell_type": "code",
   "execution_count": 4,
   "id": "1a53ff0e",
   "metadata": {},
   "outputs": [
    {
     "data": {
      "text/plain": [
       "7"
      ]
     },
     "execution_count": 4,
     "metadata": {},
     "output_type": "execute_result"
    }
   ],
   "source": [
    "a + b"
   ]
  },
  {
   "cell_type": "code",
   "execution_count": 7,
   "id": "49aad601",
   "metadata": {},
   "outputs": [],
   "source": [
    "c = \"hello\"\n",
    "d = \"\"\" \n",
    "    How are you today?\n",
    "\"\"\""
   ]
  },
  {
   "cell_type": "code",
   "execution_count": 6,
   "id": "7e5c479b",
   "metadata": {},
   "outputs": [
    {
     "name": "stdout",
     "output_type": "stream",
     "text": [
      "hello\n"
     ]
    }
   ],
   "source": [
    "print(c)"
   ]
  },
  {
   "cell_type": "code",
   "execution_count": 9,
   "id": "f67fb417",
   "metadata": {},
   "outputs": [
    {
     "name": "stdout",
     "output_type": "stream",
     "text": [
      " \n",
      "    How are you today?\n",
      "\n",
      "<class 'str'>\n"
     ]
    }
   ],
   "source": [
    "print(d)\n",
    "print(type(d))"
   ]
  },
  {
   "cell_type": "markdown",
   "id": "90582808",
   "metadata": {},
   "source": [
    "# Excercise\n",
    "\n",
    "We are going to convert the temperature of Celcius grades a Fahrenheit and Kelvin\n",
    "\n",
    "Celsius -> Fahrenheit = (0 C * 9/5)+ 32= 32 F\n",
    "\n",
    "Celsius -> Kelvin = (0 C + 273.15) = 273.15 K"
   ]
  },
  {
   "cell_type": "code",
   "execution_count": 12,
   "id": "7e1c933c",
   "metadata": {},
   "outputs": [
    {
     "name": "stdout",
     "output_type": "stream",
     "text": [
      " The temperature in Celcius grades are:  32.5\n",
      "The temperature in Fahrenheit grades are:  90.5\n",
      "The temperature in Kelvin grades are:  305.65\n"
     ]
    }
   ],
   "source": [
    "tempC = 32.5\n",
    "tempF = (tempC * 9/5) + 32\n",
    "tempK = (tempC +273.15)\n",
    "\n",
    "print(\" The temperature in Celcius grades are: \", tempC)\n",
    "print (\"The temperature in Fahrenheit grades are: \",tempF)\n",
    "print (\"The temperature in Kelvin grades are: \",tempK)"
   ]
  },
  {
   "cell_type": "markdown",
   "id": "9acab817",
   "metadata": {},
   "source": [
    "# Comparation"
   ]
  },
  {
   "cell_type": "code",
   "execution_count": 15,
   "id": "1785292c",
   "metadata": {},
   "outputs": [
    {
     "name": "stdout",
     "output_type": "stream",
     "text": [
      "is  -10  negative number?\n",
      "True\n"
     ]
    }
   ],
   "source": [
    "a = -10\n",
    "comparation = a < 0\n",
    "print(\"is \", a,\" negative number?\" )\n",
    "print(comparation)"
   ]
  },
  {
   "cell_type": "code",
   "execution_count": 17,
   "id": "e0a60e10",
   "metadata": {},
   "outputs": [
    {
     "name": "stdout",
     "output_type": "stream",
     "text": [
      " is 'b' different from zero?\n",
      "False\n"
     ]
    }
   ],
   "source": [
    "b = 0\n",
    "comparation = b != 0\n",
    "print(\" is 'b' different from zero?\")\n",
    "print(comparation)"
   ]
  },
  {
   "cell_type": "markdown",
   "id": "a7c2d966",
   "metadata": {},
   "source": [
    "# Other important Functions"
   ]
  },
  {
   "cell_type": "code",
   "execution_count": 22,
   "id": "1d8e7ec3",
   "metadata": {},
   "outputs": [
    {
     "name": "stdout",
     "output_type": "stream",
     "text": [
      "The value of the temperature is 34 celcius grade\n"
     ]
    }
   ],
   "source": [
    "temperatura = input(\" enter the value of the temperatura: \")\n",
    "print(f\"The value of the temperature is {temperatura} celcius grade\")"
   ]
  },
  {
   "cell_type": "code",
   "execution_count": 19,
   "id": "e5e060b8",
   "metadata": {},
   "outputs": [
    {
     "name": "stdout",
     "output_type": "stream",
     "text": [
      "Help on method raw_input in module ipykernel.kernelbase:\n",
      "\n",
      "raw_input(prompt='') method of ipykernel.ipkernel.IPythonKernel instance\n",
      "    Forward raw_input to frontends\n",
      "\n",
      "    Raises\n",
      "    ------\n",
      "    StdinNotImplementedError if active frontend doesn't support stdin.\n",
      "\n"
     ]
    }
   ],
   "source": [
    "help(input)"
   ]
  },
  {
   "cell_type": "code",
   "execution_count": 20,
   "id": "86c0e44d",
   "metadata": {},
   "outputs": [
    {
     "data": {
      "text/plain": [
       "11"
      ]
     },
     "execution_count": 20,
     "metadata": {},
     "output_type": "execute_result"
    }
   ],
   "source": [
    "text = \"Hello world\"\n",
    "len(text)"
   ]
  },
  {
   "cell_type": "code",
   "execution_count": 21,
   "id": "3afb825e",
   "metadata": {},
   "outputs": [
    {
     "data": {
      "text/plain": [
       "2"
      ]
     },
     "execution_count": 21,
     "metadata": {},
     "output_type": "execute_result"
    }
   ],
   "source": [
    "a = 1.8\n",
    "round(a)"
   ]
  },
  {
   "cell_type": "code",
   "execution_count": 28,
   "id": "841069ee",
   "metadata": {},
   "outputs": [
    {
     "data": {
      "text/plain": [
       "34.59"
      ]
     },
     "execution_count": 28,
     "metadata": {},
     "output_type": "execute_result"
    }
   ],
   "source": [
    "a = -34.59\n",
    "abs(a)"
   ]
  },
  {
   "cell_type": "code",
   "execution_count": 24,
   "id": "a87171af",
   "metadata": {},
   "outputs": [
    {
     "data": {
      "text/plain": [
       "23"
      ]
     },
     "execution_count": 24,
     "metadata": {},
     "output_type": "execute_result"
    }
   ],
   "source": [
    "a = 11\n",
    "b = int(input(\"Please, enter a number: \"))\n",
    "a + b"
   ]
  },
  {
   "cell_type": "markdown",
   "id": "8ba75cfa",
   "metadata": {},
   "source": [
    "# List\n"
   ]
  },
  {
   "cell_type": "code",
   "execution_count": 1,
   "id": "a8093c5c",
   "metadata": {},
   "outputs": [],
   "source": [
    "number = [23,45,6,9,23,45,88,67,43,4]"
   ]
  },
  {
   "cell_type": "code",
   "execution_count": 3,
   "id": "8511be29",
   "metadata": {},
   "outputs": [
    {
     "data": {
      "text/plain": [
       "6"
      ]
     },
     "execution_count": 3,
     "metadata": {},
     "output_type": "execute_result"
    }
   ],
   "source": [
    "number[2]"
   ]
  },
  {
   "cell_type": "code",
   "execution_count": 4,
   "id": "762239ac",
   "metadata": {},
   "outputs": [
    {
     "data": {
      "text/plain": [
       "67"
      ]
     },
     "execution_count": 4,
     "metadata": {},
     "output_type": "execute_result"
    }
   ],
   "source": [
    "number[-3]"
   ]
  },
  {
   "cell_type": "code",
   "execution_count": 5,
   "id": "54eae60d",
   "metadata": {},
   "outputs": [],
   "source": [
    "treadmill = [\"empty\",\"empty\",\"empty\",\"empty\",\"empty\",\"box\",\"empty\",\"empty\",\"empty\"]"
   ]
  },
  {
   "cell_type": "code",
   "execution_count": 8,
   "id": "416f2d03",
   "metadata": {},
   "outputs": [
    {
     "data": {
      "text/plain": [
       "5"
      ]
     },
     "execution_count": 8,
     "metadata": {},
     "output_type": "execute_result"
    }
   ],
   "source": [
    "treadmill.index(\"box\")"
   ]
  },
  {
   "cell_type": "code",
   "execution_count": 6,
   "id": "3d14dd3f",
   "metadata": {},
   "outputs": [
    {
     "data": {
      "text/plain": [
       "True"
      ]
     },
     "execution_count": 6,
     "metadata": {},
     "output_type": "execute_result"
    }
   ],
   "source": [
    "\"box\" in treadmill"
   ]
  },
  {
   "cell_type": "code",
   "execution_count": 7,
   "id": "ee11295f",
   "metadata": {},
   "outputs": [
    {
     "data": {
      "text/plain": [
       "False"
      ]
     },
     "execution_count": 7,
     "metadata": {},
     "output_type": "execute_result"
    }
   ],
   "source": [
    "\"big_box\" in treadmill"
   ]
  },
  {
   "cell_type": "markdown",
   "id": "2f43f422",
   "metadata": {},
   "source": [
    "### Dictionary"
   ]
  },
  {
   "cell_type": "code",
   "execution_count": 9,
   "id": "49d2c3c3",
   "metadata": {},
   "outputs": [],
   "source": [
    "sensors = {\"Temperature\":1,\"Pressure\":6,\"Caudal\":3}"
   ]
  },
  {
   "cell_type": "code",
   "execution_count": 11,
   "id": "bb5e4f18",
   "metadata": {},
   "outputs": [
    {
     "name": "stdout",
     "output_type": "stream",
     "text": [
      "{'Temperature': 1, 'Pressure': 6, 'Caudal': 3}\n"
     ]
    }
   ],
   "source": [
    "print(sensors)"
   ]
  },
  {
   "cell_type": "code",
   "execution_count": 12,
   "id": "8c66d11b",
   "metadata": {},
   "outputs": [],
   "source": [
    "temperaturas = [26.75431352056954, 21.991086464852872, 27.209759257701366, 23.443668324912598, 28.8725217962772, 20.731695645337763, 22.58962536117254, 24.846285051127114, 26.074481791289337, 22.085936681499903, 23.913576519730877, 27.678759112104154, 24.381354548084965, 23.19239923228099, 20.803472013144523, 21.30390306534694, 27.102859960400624, 23.763191774421054, 25.157825319899203, 20.2290281340311, 26.746902019682647, 22.750408458130667, 20.26298637657635, 26.423788201931604]"
   ]
  },
  {
   "cell_type": "code",
   "execution_count": 18,
   "id": "ee585288",
   "metadata": {},
   "outputs": [
    {
     "data": {
      "text/plain": [
       "24"
      ]
     },
     "execution_count": 18,
     "metadata": {},
     "output_type": "execute_result"
    }
   ],
   "source": [
    "len(temperaturas)"
   ]
  },
  {
   "cell_type": "code",
   "execution_count": 17,
   "id": "7ddd787d",
   "metadata": {},
   "outputs": [
    {
     "data": {
      "text/plain": [
       "28.873"
      ]
     },
     "execution_count": 17,
     "metadata": {},
     "output_type": "execute_result"
    }
   ],
   "source": [
    "round(max(temperaturas),3)"
   ]
  },
  {
   "cell_type": "code",
   "execution_count": 20,
   "id": "612f7c75",
   "metadata": {},
   "outputs": [
    {
     "name": "stdout",
     "output_type": "stream",
     "text": [
      "24.096\n"
     ]
    }
   ],
   "source": [
    "promedio = sum(temperaturas)/24\n",
    "redondeo = round(promedio,3)\n",
    "print(redondeo)"
   ]
  },
  {
   "cell_type": "code",
   "execution_count": 21,
   "id": "8fc5f05d",
   "metadata": {},
   "outputs": [],
   "source": [
    "estadoSensores = [True, True, True, False, False, False, True, False, True, False, False, True, True, False, False, True, False, False, False, True,True, False, False, False, True, True, True, False, True, True, True, False, False, True, False, False, False, True,True, False]"
   ]
  },
  {
   "cell_type": "code",
   "execution_count": 25,
   "id": "3a60ff0c",
   "metadata": {},
   "outputs": [
    {
     "name": "stdout",
     "output_type": "stream",
     "text": [
      "40\n",
      "number or trues: 19\n",
      " number of falses:  21\n"
     ]
    }
   ],
   "source": [
    "totalelementos = len(estadoSensores)\n",
    "estadoTrue = sum(estadoSensores)\n",
    "estadoFalse = totalelementos - estadoTrue\n",
    "\n",
    "print(totalelementos)\n",
    "print(\"number or trues:\",estadoTrue)\n",
    "print(\" number of falses: \",estadoFalse)\n",
    "\n"
   ]
  },
  {
   "cell_type": "code",
   "execution_count": 31,
   "id": "a9ef9bac",
   "metadata": {},
   "outputs": [
    {
     "name": "stdout",
     "output_type": "stream",
     "text": [
      "Hay 19 Sensores OK y hay 21 en falla\n"
     ]
    }
   ],
   "source": [
    "sensores = {\"falla\":21,\"OK\":19}\n",
    "\n",
    "print(f\"Hay {sensores['OK']} Sensores OK y hay {sensores['falla']} en falla\")"
   ]
  },
  {
   "cell_type": "markdown",
   "id": "1fc8613b",
   "metadata": {},
   "source": [
    "# Conditionals\n"
   ]
  },
  {
   "cell_type": "code",
   "execution_count": 34,
   "id": "8aaf0738",
   "metadata": {},
   "outputs": [
    {
     "name": "stdout",
     "output_type": "stream",
     "text": [
      "Muy lleno\n"
     ]
    }
   ],
   "source": [
    "tanque = 100\n",
    "if tanque > 95.0:\n",
    "    estadoTanque = \"Muy lleno\"\n",
    "elif tanque >28.0:\n",
    "    estadoTanque = \"operacion normal\"\n",
    "else:\n",
    "    estadoTanque = \"vacio\"\n",
    "\n",
    "print(estadoTanque)"
   ]
  },
  {
   "cell_type": "markdown",
   "id": "e0ffff3c",
   "metadata": {},
   "source": [
    "# Loops"
   ]
  },
  {
   "cell_type": "code",
   "execution_count": 36,
   "id": "d1beb78f",
   "metadata": {},
   "outputs": [
    {
     "name": "stdout",
     "output_type": "stream",
     "text": [
      "mercury\n",
      "venus\n",
      "Earth\n",
      "Mars\n",
      "Jupiter\n",
      "Saturn\n",
      "Uranus\n",
      "neptune\n"
     ]
    }
   ],
   "source": [
    "planets = ['mercury','venus','Earth','Mars','Jupiter','Saturn','Uranus','neptune']\n",
    "for planet in planets:\n",
    "    print(planet)"
   ]
  },
  {
   "cell_type": "code",
   "execution_count": 39,
   "id": "eeebe5ce",
   "metadata": {},
   "outputs": [
    {
     "name": "stdout",
     "output_type": "stream",
     "text": [
      "c\n",
      "a\n",
      "u\n",
      "d\n",
      "a\n",
      "l\n",
      "i\n",
      "m\n",
      "e\n",
      "t\n",
      "r\n",
      "o\n"
     ]
    }
   ],
   "source": [
    "# we can make a loop of each caracter of a string\n",
    "word = 'caudalimetro'\n",
    "list_letters = []\n",
    "for letter in word:\n",
    "    list_letters.append(letter)\n",
    "    print(letter)"
   ]
  },
  {
   "cell_type": "code",
   "execution_count": 40,
   "id": "488560be",
   "metadata": {},
   "outputs": [
    {
     "data": {
      "text/plain": [
       "['c', 'a', 'u', 'd', 'a', 'l', 'i', 'm', 'e', 't', 'r', 'o']"
      ]
     },
     "execution_count": 40,
     "metadata": {},
     "output_type": "execute_result"
    }
   ],
   "source": [
    "list_letters"
   ]
  },
  {
   "cell_type": "code",
   "execution_count": 41,
   "id": "61e1de67",
   "metadata": {},
   "outputs": [
    {
     "data": {
      "text/plain": [
       "'o'"
      ]
     },
     "execution_count": 41,
     "metadata": {},
     "output_type": "execute_result"
    }
   ],
   "source": [
    "list_letters[-1]"
   ]
  },
  {
   "cell_type": "code",
   "execution_count": 44,
   "id": "4b7cca77",
   "metadata": {},
   "outputs": [
    {
     "name": "stdout",
     "output_type": "stream",
     "text": [
      "numero de repeticiones: 1\n",
      "numero de repeticiones: 2\n",
      "numero de repeticiones: 3\n",
      "numero de repeticiones: 4\n",
      "numero de repeticiones: 5\n",
      "numero de repeticiones: 6\n",
      "numero de repeticiones: 7\n"
     ]
    }
   ],
   "source": [
    "for repeticion in range(7):\n",
    "    print('numero de repeticiones:',repeticion+1)"
   ]
  },
  {
   "cell_type": "code",
   "execution_count": 48,
   "id": "e25da1b4",
   "metadata": {},
   "outputs": [
    {
     "name": "stdout",
     "output_type": "stream",
     "text": [
      "dentro del bucle...\n",
      "repeticion 1\n",
      "dentro del bucle...\n",
      "repeticion 2\n",
      "dentro del bucle...\n",
      "repeticion 3\n",
      "dentro del bucle...\n",
      "repeticion 4\n",
      "dentro del bucle...\n",
      "repeticion 5\n",
      "-----------\n",
      "fuera del bucle\n"
     ]
    }
   ],
   "source": [
    "i = 0\n",
    "while i>= 0:\n",
    "    i+= 1\n",
    "    print(\"dentro del bucle...\")\n",
    "    print(\"repeticion\",i)\n",
    "    if i >= 5:\n",
    "        break\n",
    "print(\"-----------\")\n",
    "print(\"fuera del bucle\")\n"
   ]
  },
  {
   "cell_type": "code",
   "execution_count": 49,
   "id": "74e2c5d2",
   "metadata": {},
   "outputs": [],
   "source": [
    "sensores_temperatura = {\n",
    "    \"Sala de producción\": 25.5,\n",
    "    \"Oficinas administrativas\": 22.1,\n",
    "    \"Almacén principal\": 18.7,\n",
    "    \"Área de carga y descarga\": 27.8,\n",
    "    \"Laboratorio de control de calidad\": 24.3,\n",
    "    \"Zona de empaque\": 21.6,\n",
    "    \"Área de refrigeración\": 15.9,\n",
    "    \"Sala de máquinas\": 28.2,\n",
    "    \"Comedor de empleados\": 20.5,\n",
    "    \"Pasillos de distribución\": 23.8\n",
    "}\n"
   ]
  },
  {
   "cell_type": "code",
   "execution_count": 50,
   "id": "ab9ec359",
   "metadata": {},
   "outputs": [],
   "source": [
    "numeros = [5,-8,-34,23,6,8,-100]\n",
    "negativos = [n for n in numeros if n<0]"
   ]
  },
  {
   "cell_type": "code",
   "execution_count": 52,
   "id": "8add2d77",
   "metadata": {},
   "outputs": [
    {
     "data": {
      "text/plain": [
       "[-8, -34, -100]"
      ]
     },
     "execution_count": 52,
     "metadata": {},
     "output_type": "execute_result"
    }
   ],
   "source": [
    "negativos"
   ]
  },
  {
   "cell_type": "code",
   "execution_count": 54,
   "id": "863d517b",
   "metadata": {},
   "outputs": [
    {
     "name": "stdout",
     "output_type": "stream",
     "text": [
      "25.5\n",
      "22.1\n",
      "18.7\n",
      "27.8\n",
      "24.3\n",
      "21.6\n",
      "15.9\n",
      "28.2\n",
      "20.5\n",
      "23.8\n"
     ]
    }
   ],
   "source": [
    "for sensor in sensores_temperatura:\n",
    "    print(sensores_temperatura[sensor])"
   ]
  },
  {
   "cell_type": "code",
   "execution_count": null,
   "id": "cfbf523e",
   "metadata": {},
   "outputs": [],
   "source": []
  }
 ],
 "metadata": {
  "kernelspec": {
   "display_name": ".venv",
   "language": "python",
   "name": "python3"
  },
  "language_info": {
   "codemirror_mode": {
    "name": "ipython",
    "version": 3
   },
   "file_extension": ".py",
   "mimetype": "text/x-python",
   "name": "python",
   "nbconvert_exporter": "python",
   "pygments_lexer": "ipython3",
   "version": "3.13.5"
  }
 },
 "nbformat": 4,
 "nbformat_minor": 5
}
