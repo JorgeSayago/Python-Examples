{
 "cells": [
  {
   "cell_type": "markdown",
   "id": "a0da1889",
   "metadata": {},
   "source": [
    "# PY1-03EJ - Exersice\n",
    "\n",
    "Those excersices are thinked for accompany the theory and that put in practice what you learned, Isn't neccesary send his , but take adventage making them and reinfoce what they learned"
   ]
  },
  {
   "cell_type": "markdown",
   "id": "3b554750",
   "metadata": {},
   "source": [
    "# Registro de peso de pieza industrial\n",
    "\n",
    "Una empresa necesita registrar el peso de una pieza antes de su procesamiento. Pedí al usuario el peso en kilogramos y mostralo en pantalla.\n",
    "Pistas: input(), print()\n",
    "Ejemplo de salida esperada:\n",
    "Ingrese el peso de la pieza en kg: 24.7\n",
    "La pieza pesa 24.7 kg"
   ]
  },
  {
   "cell_type": "code",
   "execution_count": 1,
   "id": "965ab1eb",
   "metadata": {},
   "outputs": [
    {
     "name": "stdout",
     "output_type": "stream",
     "text": [
      "el peso de la pieza es de 24.5 kilogramos\n"
     ]
    }
   ],
   "source": [
    "pieza = input(\" registre el peso de la pieza en kilogramos\")\n",
    "print(f\"el peso de la pieza es de {pieza} kilogramos\")"
   ]
  },
  {
   "cell_type": "markdown",
   "id": "128b107a",
   "metadata": {},
   "source": [
    "# Ficha técnica de una máquina\n",
    "Guardá en variables el nombre de una máquina, su tiempo de uso diario y consumo energético. Mostrá un resumen técnico.\n",
    "Pistas: variables, f-string --> print(f\"texto {variable}\")\n",
    "Ejemplo:\n",
    "\n",
    "Máquina: Compresor A\n",
    "\n",
    "Horas de uso: 6\n",
    "\n",
    "Consumo energético: 45.8\n",
    "\n",
    "Resumen: La máquina Compresor A operó 6 horas y consumió 45.8 kWh"
   ]
  },
  {
   "cell_type": "code",
   "execution_count": 2,
   "id": "4dc04837",
   "metadata": {},
   "outputs": [
    {
     "name": "stdout",
     "output_type": "stream",
     "text": [
      "la maquina Compresor A opero por: 6 horas y comsumio 45.6 kwh\n"
     ]
    }
   ],
   "source": [
    "maquina = \"Compresor A\"\n",
    "horas = 6\n",
    "consumo = 45.6\n",
    "print(f\"la maquina {maquina} opero por: {horas} horas y comsumio {consumo} kwh\")"
   ]
  },
  {
   "cell_type": "markdown",
   "id": "37255eeb",
   "metadata": {},
   "source": [
    "# Presión de entrada y salida de una bomba\n",
    "Solicitá la presión de entrada y de salida de una bomba hidráulica. Mostralas al usuario.\n",
    "Pistas: input(), variables\n",
    "Ejemplo:\n",
    "\n",
    "Presión de entrada: 85 psi\n",
    "\n",
    "Presión de salida: 120 psi"
   ]
  },
  {
   "cell_type": "code",
   "execution_count": 3,
   "id": "0779ccad",
   "metadata": {},
   "outputs": [
    {
     "name": "stdout",
     "output_type": "stream",
     "text": [
      "la presion de entrada es de 34 psi y la presion de salida es de 56 psi\n"
     ]
    }
   ],
   "source": [
    "presionEntrada = input(\"ingrese la pesion de entrada\")\n",
    "presionSalida = input(\"ingrese la presion de salida\")\n",
    "\n",
    "print(f\"la presion de entrada es de {presionEntrada} psi y la presion de salida es de {presionSalida} psi\")"
   ]
  },
  {
   "cell_type": "markdown",
   "id": "6d4f06ac",
   "metadata": {},
   "source": [
    "# Conversión de lecturas desde consola\n",
    "El usuario ingresa una lectura como texto. Convertila a número flotante y mostrá el tipo de dato antes y después.\n",
    "Pistas: input(), float(), type()\n",
    "\n",
    "Ejemplo:\n",
    "\n",
    "Lectura ingresada: '78.95'\n",
    "\n",
    "Lectura convertida: 78.95\n",
    "\n",
    "Tipo de dato: <class 'float'>"
   ]
  },
  {
   "cell_type": "code",
   "execution_count": 4,
   "id": "e1d7e999",
   "metadata": {},
   "outputs": [
    {
     "name": "stdout",
     "output_type": "stream",
     "text": [
      "56.43\n",
      "56.43\n",
      "<class 'float'>\n"
     ]
    }
   ],
   "source": [
    "lectura = input(\"ingrese la lectura\")\n",
    "lectura2 = float(lectura)\n",
    "\n",
    "print(lectura)\n",
    "print(lectura2)\n",
    "print(type(lectura2))"
   ]
  },
  {
   "cell_type": "markdown",
   "id": "bb1e8750",
   "metadata": {},
   "source": [
    "# Cantidad de fallas en lote\n",
    "Pedí al usuario cuántas fallas detectó en un lote (entero) y sumale 5 por posibles errores no detectados.\n",
    "Pistas: int(), +\n",
    "Ejemplo:\n",
    "\n",
    "Fallas reportadas: 12\n",
    "\n",
    "Total estimado: 17"
   ]
  },
  {
   "cell_type": "code",
   "execution_count": 5,
   "id": "e481b542",
   "metadata": {},
   "outputs": [
    {
     "name": "stdout",
     "output_type": "stream",
     "text": [
      "Fallas reportadas:  23\n",
      "Total estimado:  28\n"
     ]
    }
   ],
   "source": [
    "fallas = int(input(\" ingrese el numero de fallas detectadas\"))\n",
    "total =fallas + 5\n",
    "\n",
    "print(\"Fallas reportadas: \",fallas)\n",
    "print(\"Total estimado: \",total)"
   ]
  },
  {
   "cell_type": "markdown",
   "id": "b7d4ffb5",
   "metadata": {},
   "source": [
    "# PY1-0311 – Operadores aritméticos\n",
    "## Cálculo de caudal en tubería\n",
    "Conocés el área de una tubería (m²) y la velocidad del fluido (m/s). Calculá el caudal en m³/s. Caudal es área * velocidad. \n",
    "\n",
    "Pistas: *, float()\n",
    "\n",
    "Ejemplo:\n",
    "\n",
    "Área: 0.25\n",
    "\n",
    "Velocidad: 3.5\n",
    "\n",
    "Caudal: 0.875 m³/s"
   ]
  },
  {
   "cell_type": "code",
   "execution_count": 7,
   "id": "5f3d4bd1",
   "metadata": {},
   "outputs": [
    {
     "name": "stdout",
     "output_type": "stream",
     "text": [
      " el area es igual a: 12 metros\n",
      "la velocidad es igual a 56 m/s\n",
      "el caudal es igual a 672 m³/s\n"
     ]
    }
   ],
   "source": [
    "area = int(input(\"ingrese el area de la tuberia\"))\n",
    "velocidad = int(input(\"ingrese la velocidad de la tuberia\"))\n",
    "caudal = area * velocidad\n",
    "\n",
    "print(f\" el area es igual a: {area} metros\")\n",
    "print (f'la velocidad es igual a {velocidad} m/s')\n",
    "print(f'el caudal es igual a {caudal} m³/s')"
   ]
  },
  {
   "cell_type": "markdown",
   "id": "fc646a9c",
   "metadata": {},
   "source": [
    "# Producción total del día\n",
    "Una máquina produce X piezas por hora. ¿Cuántas hará en 8 horas?\n",
    "\n",
    "Pistas: *, int()\n",
    "\n",
    "Ejemplo:\n",
    "\n",
    "Producción por hora: 120\n",
    "\n",
    "Total diario: 960 piezas"
   ]
  },
  {
   "cell_type": "code",
   "execution_count": 8,
   "id": "3dd7e840",
   "metadata": {},
   "outputs": [
    {
     "name": "stdout",
     "output_type": "stream",
     "text": [
      "la maquina produce 96 piezas en 8 horas\n"
     ]
    }
   ],
   "source": [
    "piezasHora = 12\n",
    "total = piezasHora * 8\n",
    "\n",
    "print (f'la maquina produce {total} piezas en 8 horas')"
   ]
  },
  {
   "cell_type": "markdown",
   "id": "78bdc4d5",
   "metadata": {},
   "source": [
    "# PY1-0312 – Comparación\n",
    "## Verificación de sobrepeso\n",
    "Si el peso de una pieza supera los 50 kg, debe ser revisada. Indicá si lo supera.\n",
    "\n",
    "Pistas: >\n",
    "Ejemplo:\n",
    "\n",
    "Peso: 52 kg\n",
    "\n",
    "¿Revisión necesaria? True"
   ]
  },
  {
   "cell_type": "code",
   "execution_count": 10,
   "id": "2b24be4d",
   "metadata": {},
   "outputs": [
    {
     "name": "stdout",
     "output_type": "stream",
     "text": [
      "Revision necesaria? False\n"
     ]
    }
   ],
   "source": [
    "peso = int(input(\"ingrese el peso de la pieza en kilogramos\"))\n",
    "revision = peso > 50\n",
    "print('Revision necesaria?' ,revision)"
   ]
  },
  {
   "cell_type": "markdown",
   "id": "ad7d943c",
   "metadata": {},
   "source": [
    "## Comparar temperaturas entre hornos\n",
    "Ingresá la temperatura de dos hornos industriales y mostrá cuál es mayor.\n",
    "Pistas: >\n",
    "\n",
    "Ejemplo:\n",
    "\n",
    "Horno 1: 670 °C\n",
    "\n",
    "Horno 2: 695 °C\n",
    "\n",
    "¿Horno 1 mayor que horno 2? True"
   ]
  },
  {
   "cell_type": "code",
   "execution_count": 12,
   "id": "8748c0d7",
   "metadata": {},
   "outputs": [
    {
     "name": "stdout",
     "output_type": "stream",
     "text": [
      "horno 1 mayor que horno 2? True\n"
     ]
    }
   ],
   "source": [
    "horno1 = int(input(\"ingrese la temperatura del horno 1\"))\n",
    "horno2 = int(input(\"ingrese la temperatura del horno 2\"))\n",
    "\n",
    "total = horno1 > horno2\n",
    "print(\"horno 1 mayor que horno 2?\", total)"
   ]
  },
  {
   "cell_type": "markdown",
   "id": "83425b2d",
   "metadata": {},
   "source": [
    "# Chequeo de presión en rango seguro\n",
    "Una bomba debe trabajar entre 30 y 90 psi. Verificá si la presión está en ese rango.\n",
    "\n",
    "Pistas: >=, <=, and\n",
    "\n",
    "Ejemplo:\n",
    "\n",
    "Presión: 45 psi\n",
    "\n",
    "Estado: True"
   ]
  },
  {
   "cell_type": "code",
   "execution_count": 15,
   "id": "eab5c658",
   "metadata": {},
   "outputs": [
    {
     "name": "stdout",
     "output_type": "stream",
     "text": [
      " la bomba esta en buen estado? True\n"
     ]
    }
   ],
   "source": [
    "bomba = int(input(\"ingrese la presion  de la bomba\"))\n",
    "verificar = bomba>= 30 and bomba <= 90\n",
    "\n",
    "print(\" la bomba esta en buen estado?\", verificar)\n"
   ]
  },
  {
   "cell_type": "markdown",
   "id": "814fd1d2",
   "metadata": {},
   "source": [
    "# PY1-0313 – Operadores lógicos\n",
    "## Sensor activo y lectura crítica\n",
    "Crear las variables \"S_Activo\" y \"S_lectura\" de un sensor en el código, y darles un valor. Si un sensor está activo y su lectura supera 70, se genera una alerta en una variable \"S_Alerta\".\n",
    "\n",
    "Pistas: True\n",
    "\n",
    "Ejemplo:\n",
    "\n",
    "Activo: True\n",
    "\n",
    "Lectura: 82\n",
    "\n",
    "Alerta: True"
   ]
  },
  {
   "cell_type": "code",
   "execution_count": 17,
   "id": "f65b0b03",
   "metadata": {},
   "outputs": [
    {
     "name": "stdout",
     "output_type": "stream",
     "text": [
      "Alerta:  True\n"
     ]
    }
   ],
   "source": [
    "S_activo = True\n",
    "S_lectura = int(input(\"ingrese la variable de lectura\"))\n",
    "alerta = S_activo = True and S_lectura > 70\n",
    "print(\"Alerta: \", alerta)"
   ]
  },
  {
   "cell_type": "markdown",
   "id": "f7f952a4",
   "metadata": {},
   "source": [
    "## Comprobación de funcionamiento\n",
    "Mostrá si al menos uno entre una bomba o un compresor está encendido.\n",
    "Pistas: or, bool\n",
    "\n",
    "Ejemplo:\n",
    "\n",
    "Bomba: False\n",
    "\n",
    "Compresor: True\n",
    "\n",
    "Sistema operativo: True"
   ]
  },
  {
   "cell_type": "code",
   "execution_count": 21,
   "id": "fde2c7eb",
   "metadata": {},
   "outputs": [
    {
     "name": "stdout",
     "output_type": "stream",
     "text": [
      "sistema operativo=  False\n"
     ]
    }
   ],
   "source": [
    "bomba= False\n",
    "compresor = False\n",
    "\n",
    "sistema = bomba  or compresor\n",
    "print('sistema operativo= ',sistema)"
   ]
  },
  {
   "cell_type": "markdown",
   "id": "17c94372",
   "metadata": {},
   "source": [
    "# PY1-0314 – Entrada y salida de datos\n",
    "## Registro de turno de operario\n",
    "Pedí el nombre y turno del operario. Mostrá un mensaje de bienvenida.\n",
    "Pistas: input(), print()\n",
    "\n",
    "Ejemplo:\n",
    "\n",
    "Operario: Julia\n",
    "\n",
    "Turno: Noche\n",
    "\n",
    "Bienvenida, Julia. Estás en el turno Noche."
   ]
  },
  {
   "cell_type": "code",
   "execution_count": 23,
   "id": "daa45915",
   "metadata": {},
   "outputs": [
    {
     "name": "stdout",
     "output_type": "stream",
     "text": [
      "Binenvenido/a messi a uted le toco el turno: dia\n"
     ]
    }
   ],
   "source": [
    "operario = input(\"ingrese el nombre del operario\")\n",
    "turno = input('ingrese el turno del operario')\n",
    "\n",
    "print(f'Binenvenido/a {operario} a uted le toco el turno: {turno}')"
   ]
  },
  {
   "cell_type": "markdown",
   "id": "8aec5aa4",
   "metadata": {},
   "source": [
    "Pedí al usuario el largo y el ancho de una plancha metálica y calculá su área.\n",
    "Pistas: float(), *\n",
    "\n",
    "Ejemplo:\n",
    "\n",
    "Largo: 2.5\n",
    "\n",
    "Ancho: 1.2\n",
    "\n",
    "Área: 3.0 m²"
   ]
  },
  {
   "cell_type": "code",
   "execution_count": 24,
   "id": "92194678",
   "metadata": {},
   "outputs": [
    {
     "name": "stdout",
     "output_type": "stream",
     "text": [
      "el area es: 813.0115000000001 metros cuadrados\n"
     ]
    }
   ],
   "source": [
    "largo= float(input(\"ingrese el largo de la plancha\"))\n",
    "ancho = float(input(\"ingrese el ancho de la plancha\"))\n",
    "\n",
    "area = largo * ancho\n",
    "\n",
    "print(f'el area es: {area} metros cuadrados')"
   ]
  },
  {
   "cell_type": "markdown",
   "id": "13b111b9",
   "metadata": {},
   "source": [
    "\"Escribir un programa que solicite al usuario ingresar las longitudes de los dos catetos de un triángulo rectángulo y calcular la longitud de la hipotenusa utilizando el Teorema de Pitágoras. Luego, mostrar el resultado al usuario.\"\n",
    "\n",
    "Pistas:\n",
    "Hay un comando específico para pedirle al usuario que ingrese datos en la consola.\n",
    "Al pedirle los datos al usuario, nos tenemos que asegurar que sea un número con coma. Recordemos que a éstos se los llama \"float\".\n",
    "¿Cuál es el símbolo para \"potencia\" en Python? Ojo, que no es ^ como en otros lenguajes\n",
    "Para hacer la raíz cuadrada de un número, es igual a elevar ese número a la (1/2)\n",
    "¿Qué comando usamos para imprimir valores en la consola?"
   ]
  },
  {
   "cell_type": "code",
   "execution_count": null,
   "id": "878b2132",
   "metadata": {},
   "outputs": [],
   "source": []
  }
 ],
 "metadata": {
  "kernelspec": {
   "display_name": ".venv",
   "language": "python",
   "name": "python3"
  },
  "language_info": {
   "codemirror_mode": {
    "name": "ipython",
    "version": 3
   },
   "file_extension": ".py",
   "mimetype": "text/x-python",
   "name": "python",
   "nbconvert_exporter": "python",
   "pygments_lexer": "ipython3",
   "version": "3.13.5"
  }
 },
 "nbformat": 4,
 "nbformat_minor": 5
}
